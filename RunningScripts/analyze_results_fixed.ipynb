{
 "cells": [
  {
   "cell_type": "code",
   "execution_count": 16,
   "id": "6d796479-916b-464c-9c7b-448306d9e7e9",
   "metadata": {},
   "outputs": [],
   "source": [
    "import pandas as pd \n",
    "import wandb\n",
    "from tqdm import tqdm\n",
    "import requests\n",
    "import os\n",
    "import numpy as np\n",
    "import matplotlib.pyplot as plt\n",
    "import sklearn\n",
    "from sklearn import metrics\n",
    "import matplotlib.pyplot as plt\n",
    "import scipy.stats as stats\n",
    "import matplotlib.colors as mcolors"
   ]
  },
  {
   "cell_type": "code",
   "execution_count": 17,
   "id": "a9b533fe-a6ba-45c9-8bac-5da5e1414208",
   "metadata": {},
   "outputs": [],
   "source": [
    "BASE_METRIC = \"accuracy_per_mean_user_and_bot\"\n",
    "WANDB_OR_USERNAME = \"guylororg\"\n"
   ]
  },
  {
   "cell_type": "code",
   "execution_count": 69,
   "id": "7be66a73-767b-4b9b-ab1f-9310d9d21fa2",
   "metadata": {},
   "outputs": [],
   "source": [
    "def result_metric(sweeps, group_name, drop_list=[], drop_HPT=False, metric=BASE_METRIC, epoch=\"best\"):\n",
    "    df = api.get_sweeps_results(sweeps, metric=metric) \n",
    "\n",
    "    config_cols = [c for c in df.columns if \"config_\" in c and c!=\"config_wandb_run_id\" and c!=\"config_online_simulation_size\"]\n",
    "    HPT_cols = [col for col in config_cols if df[col].nunique() > 1]\n",
    "    # print(HPT_cols)\n",
    "    if drop_HPT:\n",
    "        df=df.drop([c for c in HPT_cols if not c in [\"config_LLM_SIM_SIZE\", \"config_seed\"]], axis=1)\n",
    "        HPT_cols = [\"config_LLM_SIM_SIZE\", \"config_seed\"]\n",
    "    # display(df['config_online_simulation_factor'])\n",
    "    numeric_cols = df.select_dtypes(include='number').columns.tolist()\n",
    "    grouped = df.groupby([c for c in HPT_cols if c != \"config_seed\"])\n",
    "    \n",
    "    mean_df = grouped[numeric_cols].mean()\n",
    "    std_df = grouped[numeric_cols].std()\n",
    "    # display(mean_df)\n",
    "\n",
    "    if epoch==\"best\":\n",
    "        best_col = mean_df[[c for c in mean_df.columns if (metric in c and metric[-4:] == c.split(\"_epoch\")[0][-4:])]].idxmax(axis=1)\n",
    "    else:\n",
    "        best_col = mean_df[[c for c in mean_df.columns if f\"{metric}_epoch{epoch}\" in c]].idxmax(axis=1)\n",
    "    \n",
    "    result = grouped.apply(lambda x: x[best_col.loc[x.name]].values)\n",
    "    means = grouped.apply(lambda x: x[best_col.loc[x.name]].mean())\n",
    "    stds = grouped.apply(lambda x: x[best_col.loc[x.name]].std())\n",
    "\n",
    "    # display(result)\n",
    "\n",
    "\n",
    "    df_cols = {'mean': means, 'std': stds, 'values': result.values}\n",
    "    # display(df_cols)\n",
    "    if epoch == \"best\": df_cols['epoch'] = best_col.apply(lambda x: int(x.split(\"epoch\")[1]) if \"epoch\" in x else \"last\")\n",
    "\n",
    "    df_cols['CI'] = result.apply(lambda x: bootstrap_ci(x))\n",
    "    # display(df_cols)\n",
    "    summary_df = pd.DataFrame(df_cols, index=best_col.index)\n",
    "    # display(summary_df)\n",
    "    for d in drop_list:\n",
    "        if d in summary_df.index:\n",
    "            summary_df=summary_df.drop(d)\n",
    "    # if len(summary_df.index.names) == 1:\n",
    "    #     return summary_df.rename_axis(group_name)\n",
    "    # else:\n",
    "    #     return summary_df\n",
    "\n",
    "    return summary_df\n",
    "\n",
    "def bootstrap_ci(data, n_bootstrap=1000, ci=0.95):\n",
    "    bootstrapped_means = []\n",
    "    for _ in range(n_bootstrap):\n",
    "        sample = np.random.choice(data, size=len(data), replace=True)\n",
    "        bootstrapped_means.append(np.mean(sample))\n",
    "    lower_bound = np.percentile(bootstrapped_means, (1 - ci) / 2 * 100)\n",
    "    upper_bound = np.percentile(bootstrapped_means, (1 + ci) / 2 * 100)\n",
    "    return lower_bound, upper_bound\n"
   ]
  },
  {
   "cell_type": "markdown",
   "id": "53a0ba0c-108c-43f5-8232-8b548c844b31",
   "metadata": {},
   "source": [
    "# For HyperParameterTuning"
   ]
  },
  {
   "cell_type": "markdown",
   "id": "dbe8fe89-e9e6-45f2-a2c0-e79a80e455ae",
   "metadata": {},
   "source": [
    "For every configuration that you test in the sweep, you will receive in the table the average, standard deviation, all the values obtained for the different seed values, and also the confidence interval within which the result is located at a confidence level of 95%.\n",
    "\n",
    "When epoch=\"best\" is defined, you can check in which epoch the best result is obtained. If epoch=5 is defined, you will receive the result obtained for epoch number 5.\n",
    "\n",
    "You can test multiple sweeps simultaneously by entering them into the list found in the first element of the function result_metric."
   ]
  },
  {
   "cell_type": "code",
   "execution_count": 66,
   "id": "987c7c03",
   "metadata": {},
   "outputs": [],
   "source": [
    "from read_wandb import wandb_results\n",
    "# api = wandb_results(\"NLP2024_PROJECT_testing_action_1\", wandb_username=WANDB_OR_USERNAME)\n",
    "# api = wandb_results(\"NLP2024_PROJECT_wandb_check\", wandb_username=WANDB_OR_USERNAME)\n",
    "api = wandb_results(\"NLP2024_PROJECT_testing_action_parallel\", wandb_username=WANDB_OR_USERNAME)\n",
    "# sweep_ids_list = ['decuirq2']\n",
    "sweep_ids_list = [\"yiteamf1\"]"
   ]
  },
  {
   "cell_type": "code",
   "execution_count": 67,
   "id": "fe80a1fe",
   "metadata": {},
   "outputs": [
    {
     "name": "stdout",
     "output_type": "stream",
     "text": [
      "Total number of sweeps: 1\n",
      "Download sweep_id='yiteamf1' data...\n"
     ]
    },
    {
     "name": "stdout",
     "output_type": "stream",
     "text": [
      "['config_seed', 'config_online_simulation_factor']\n"
     ]
    }
   ],
   "source": [
    "df = api.get_sweeps_results(sweep_ids_list, metric=BASE_METRIC)\n",
    "config_cols = [c for c in df.columns if \"config_\" in c and c!=\"config_wandb_run_id\" and c!=\"config_online_simulation_size\"]\n",
    "HPT_cols = [col for col in config_cols if df[col].nunique() > 1]\n",
    "print(HPT_cols)"
   ]
  },
  {
   "cell_type": "code",
   "execution_count": 68,
   "id": "9dd9321f-5c94-4f0c-8052-b50bd8bd3f4e",
   "metadata": {},
   "outputs": [
    {
     "name": "stdout",
     "output_type": "stream",
     "text": [
      "Total number of sweeps: 1\n",
      "Download sweep_id='yiteamf1' data...\n"
     ]
    },
    {
     "data": {
      "text/html": [
       "<div>\n",
       "<style scoped>\n",
       "    .dataframe tbody tr th:only-of-type {\n",
       "        vertical-align: middle;\n",
       "    }\n",
       "\n",
       "    .dataframe tbody tr th {\n",
       "        vertical-align: top;\n",
       "    }\n",
       "\n",
       "    .dataframe thead th {\n",
       "        text-align: right;\n",
       "    }\n",
       "</style>\n",
       "<table border=\"1\" class=\"dataframe\">\n",
       "  <thead>\n",
       "    <tr style=\"text-align: right;\">\n",
       "      <th></th>\n",
       "      <th>mean</th>\n",
       "      <th>std</th>\n",
       "      <th>values</th>\n",
       "      <th>epoch</th>\n",
       "      <th>CI</th>\n",
       "    </tr>\n",
       "    <tr>\n",
       "      <th>config_online_simulation_factor</th>\n",
       "      <th></th>\n",
       "      <th></th>\n",
       "      <th></th>\n",
       "      <th></th>\n",
       "      <th></th>\n",
       "    </tr>\n",
       "  </thead>\n",
       "  <tbody>\n",
       "    <tr>\n",
       "      <th>0</th>\n",
       "      <td>0.828898</td>\n",
       "      <td>0.001633</td>\n",
       "      <td>[0.8267503772423906, 0.8277120396253037, 0.829...</td>\n",
       "      <td>8</td>\n",
       "      <td>(0.8276611248201542, 0.8301356815345793)</td>\n",
       "    </tr>\n",
       "    <tr>\n",
       "      <th>2</th>\n",
       "      <td>0.833129</td>\n",
       "      <td>0.002834</td>\n",
       "      <td>[0.8318467475847794, 0.8298785538482785, 0.834...</td>\n",
       "      <td>15</td>\n",
       "      <td>(0.8311417926847199, 0.8355283712881759)</td>\n",
       "    </tr>\n",
       "  </tbody>\n",
       "</table>\n",
       "</div>"
      ],
      "text/plain": [
       "                                     mean       std  \\\n",
       "config_online_simulation_factor                       \n",
       "0                                0.828898  0.001633   \n",
       "2                                0.833129  0.002834   \n",
       "\n",
       "                                                                            values  \\\n",
       "config_online_simulation_factor                                                      \n",
       "0                                [0.8267503772423906, 0.8277120396253037, 0.829...   \n",
       "2                                [0.8318467475847794, 0.8298785538482785, 0.834...   \n",
       "\n",
       "                                 epoch  \\\n",
       "config_online_simulation_factor          \n",
       "0                                    8   \n",
       "2                                   15   \n",
       "\n",
       "                                                                       CI  \n",
       "config_online_simulation_factor                                            \n",
       "0                                (0.8276611248201542, 0.8301356815345793)  \n",
       "2                                (0.8311417926847199, 0.8355283712881759)  "
      ]
     },
     "execution_count": 68,
     "metadata": {},
     "output_type": "execute_result"
    }
   ],
   "source": [
    "sweep_results = result_metric(sweep_ids_list, \"config_online_simulation_factor\",drop_list=[], drop_HPT=False, epoch=\"best\")\n",
    "sweep_results"
   ]
  },
  {
   "cell_type": "code",
   "execution_count": 38,
   "id": "aad3b8c1",
   "metadata": {},
   "outputs": [],
   "source": [
    "# sweep_results = result_metric([\"decuirq2\"], \"LLMs\", drop_HPT=False, epoch=\"best\")\n",
    "# sweep_results"
   ]
  },
  {
   "cell_type": "markdown",
   "id": "3b7cf7c5-c884-43e2-9129-47a507f95124",
   "metadata": {},
   "source": [
    "# Result for a specific epoch"
   ]
  },
  {
   "cell_type": "code",
   "execution_count": 10,
   "id": "bfbdd8de-237f-4283-89b4-608c00121df7",
   "metadata": {},
   "outputs": [
    {
     "name": "stdout",
     "output_type": "stream",
     "text": [
      "Total number of sweeps: 1\n",
      "Download sweep_id='yiteamf1' data...\n",
      "['config_seed', 'config_online_simulation_factor']\n"
     ]
    },
    {
     "data": {
      "text/html": [
       "<div>\n",
       "<style scoped>\n",
       "    .dataframe tbody tr th:only-of-type {\n",
       "        vertical-align: middle;\n",
       "    }\n",
       "\n",
       "    .dataframe tbody tr th {\n",
       "        vertical-align: top;\n",
       "    }\n",
       "\n",
       "    .dataframe thead th {\n",
       "        text-align: right;\n",
       "    }\n",
       "</style>\n",
       "<table border=\"1\" class=\"dataframe\">\n",
       "  <thead>\n",
       "    <tr style=\"text-align: right;\">\n",
       "      <th></th>\n",
       "      <th>mean</th>\n",
       "      <th>std</th>\n",
       "      <th>values</th>\n",
       "      <th>CI</th>\n",
       "    </tr>\n",
       "    <tr>\n",
       "      <th>config_online_simulation_factor</th>\n",
       "      <th></th>\n",
       "      <th></th>\n",
       "      <th></th>\n",
       "      <th></th>\n",
       "    </tr>\n",
       "  </thead>\n",
       "  <tbody>\n",
       "    <tr>\n",
       "      <th>2</th>\n",
       "      <td>0.831352</td>\n",
       "      <td>0.003597</td>\n",
       "      <td>[0.8294915016670176, 0.8258698902080929, 0.833...</td>\n",
       "      <td>(0.8281176298981829, 0.833818391352394)</td>\n",
       "    </tr>\n",
       "  </tbody>\n",
       "</table>\n",
       "</div>"
      ],
      "text/plain": [
       "                                     mean       std  \\\n",
       "config_online_simulation_factor                       \n",
       "2                                0.831352  0.003597   \n",
       "\n",
       "                                                                            values  \\\n",
       "config_online_simulation_factor                                                      \n",
       "2                                [0.8294915016670176, 0.8258698902080929, 0.833...   \n",
       "\n",
       "                                                                      CI  \n",
       "config_online_simulation_factor                                           \n",
       "2                                (0.8281176298981829, 0.833818391352394)  "
      ]
     },
     "execution_count": 10,
     "metadata": {},
     "output_type": "execute_result"
    }
   ],
   "source": [
    "sweep_results = result_metric(sweep_ids_list, \"config_online_simulation_factor\", drop_HPT=False, epoch=20)\n",
    "sweep_results"
   ]
  }
 ],
 "metadata": {
  "kernelspec": {
   "display_name": "Python 3",
   "language": "python",
   "name": "python3"
  },
  "language_info": {
   "codemirror_mode": {
    "name": "ipython",
    "version": 3
   },
   "file_extension": ".py",
   "mimetype": "text/x-python",
   "name": "python",
   "nbconvert_exporter": "python",
   "pygments_lexer": "ipython3",
   "version": "3.8.19"
  }
 },
 "nbformat": 4,
 "nbformat_minor": 5
}
